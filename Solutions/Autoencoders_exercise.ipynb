{
 "cells": [
  {
   "cell_type": "markdown",
   "id": "0a4e716c",
   "metadata": {},
   "source": [
    "# Exercise on Autoencoders\n",
    "\n",
    "## Use Autoencoders to reconstruct images from the MNIST dataset\n",
    "\n",
    "In this exercise, we implement an Autoencoder (AE) to reconstruct images from the MNIST dataset. Autoencoders are a type of neural network designed to learn efficient codings of input data by compressing it into a latent space and then reconstructing the original input from this compressed representation.\n",
    "\n",
    "After training the autoencoder for image reconstruction, we will use it for:\n",
    "\n",
    "- Image Compression\n",
    "- Anomaly detection\n",
    "- kNN Classification using a reduced number of features (optional, only for those who are familiar with the kNN algorithms)\n",
    "\n",
    "\n",
    "### Authors:\n",
    "- **Dario Piga**\n",
    "\n",
    "### Date:\n",
    "- **2nd February 2025**\n",
    "\n",
    "### References:\n",
    "- **Autoencoders (AE)**: Baldi, P. (2012). Autoencoders, unsupervised learning, and deep architectures. In Proceedings of ICML Workshop on Unsupervised and Transfer Learning (pp. 37-49).\n",
    "- **MNIST Dataset**: A dataset of 70,000 28x28 grayscale images of handwritten digits (0-9). [MNIST website](http://yann.lecun.com/exdb/mnist/)\n",
    "- **Fashion MNIST Dataset**: A dataset of 70,000 28x28 grayscale images of fashion images (10 classes). [Fashion MNIST website](https://www.kaggle.com/datasets/zalando-research/fashionmnist)\n",
    "\n"
   ]
  },
  {
   "cell_type": "markdown",
   "id": "e6f20546-8446-41f9-aa6d-b98a236cb74c",
   "metadata": {},
   "source": [
    "## Instructions\n",
    "\n",
    "Run the following cells to:\n",
    "\n",
    "1. Import necessary libraries.\n",
    "2. Download the MNIST dataset.\n",
    "3. Visualize some of the images.\n",
    "\n",
    "Make sure to familiarize yourself with the type of data you are working with. For example, check the dimensions of the training and test sets, as well as the shape of each sample in the dataset."
   ]
  },
  {
   "cell_type": "code",
   "execution_count": 1,
   "id": "65443cc5",
   "metadata": {},
   "outputs": [],
   "source": [
    "# Importing necessary libraries\n",
    "import torch\n",
    "import torch.nn as nn\n",
    "import torch.optim as optim\n",
    "import torchvision\n",
    "import torchvision.transforms as transforms\n",
    "import matplotlib.pyplot as plt\n",
    "import numpy as np"
   ]
  },
  {
   "cell_type": "code",
   "execution_count": 2,
   "id": "e387c7c3-544e-4956-b7b1-3d4778750d9a",
   "metadata": {},
   "outputs": [
    {
     "name": "stdout",
     "output_type": "stream",
     "text": [
      "Training set: X_train torch.Size([60000, 28, 28]), y_train torch.Size([60000])\n",
      "Test set: X_test torch.Size([10000, 28, 28]), y_test torch.Size([10000])\n"
     ]
    }
   ],
   "source": [
    "# Define transformations: Convert to Tensor and Normalize\n",
    "transform = transforms.Compose([\n",
    "    transforms.ToTensor()\n",
    "])\n",
    "\n",
    "# Load entire dataset as tensors\n",
    "trainset = torchvision.datasets.MNIST(root='./data', train=True, download=True, transform=transform)\n",
    "testset = torchvision.datasets.MNIST(root='./data', train=False, download=True, transform=transform)\n",
    "\n",
    "# Extract images and labels\n",
    "X_train = torch.stack([trainset[i][0] for i in range(len(trainset))]).squeeze()  # From shape [60000, 1, 28, 28] to [60000, 1, 28, 28]\n",
    "y_train = torch.tensor([trainset[i][1] for i in range(len(trainset))])  # Shape: [60000]\n",
    "\n",
    "X_test = torch.stack([testset[i][0] for i in range(len(testset))]).squeeze()  # From shape [10000, 1, 28, 28] to [10000, 28, 28]\n",
    "y_test = torch.tensor([testset[i][1] for i in range(len(testset))])  # Shape: [10000]\n",
    "\n",
    "# Print dataset shapes\n",
    "print(f\"Training set: X_train {X_train.shape}, y_train {y_train.shape}\")\n",
    "print(f\"Test set: X_test {X_test.shape}, y_test {y_test.shape}\")"
   ]
  },
  {
   "cell_type": "code",
   "execution_count": 3,
   "id": "0143ff11-4254-415d-9cca-87f47e70acf0",
   "metadata": {},
   "outputs": [
    {
     "data": {
      "image/png": "[encoded data removed]",
      "text/plain": [
       "<Figure size 640x480 with 9 Axes>"
      ]
     },
     "metadata": {},
     "output_type": "display_data"
    }
   ],
   "source": [
    "# visualize the first 9 images\n",
    "plt.figure\n",
    "\n",
    "count = 0\n",
    "for row in range(3):\n",
    "    for col in range(3):\n",
    "        plt.subplot(3, 3, count+1)\n",
    "        plt.imshow(X_train[count,:])\n",
    "        plt.title(f\"target: {y_train[count].item()}\")\n",
    "        plt.axis('off')\n",
    "        count +=1"
   ]
  },
  {
   "cell_type": "markdown",
   "id": "32651a2c-ac15-474e-ac7e-b428c581dbae",
   "metadata": {},
   "source": [
    "## Exercise 1\n",
    "\n",
    "In this exercise, you will use the Autoencoder for Image compression.\n",
    "\n",
    "# Task:\n",
    "\n",
    "Condider the training images uploaded in the previous cells. Train an Autoencoder that takes these images as inputs and returns the same images. As a size for the latent variable $z$ coming as output of the encoder, you may choose $n_z \\leq 30$  \n",
    "\n",
    "\n",
    "# Suggested steps:\n",
    "\n",
    "1. Create an `Encoder` as a fully connected neural network, inheriting from the class `nn.Module`. The encoder should take an input dataset $X$ and return the latent variables $z$. Implement this encoder and verify that for a given input $X$, the model outputs a variable of size $n_z$. Suggestion: As input for the encoder, reshape the pixels of the 2-D images (28x28 matrix) into a 1-D vector of size 784 (=28x28). \n",
    " \n",
    "2. Create a `Decoder` as a fully connected neural network, inheriting from the class `nn.Module`. The decoder should take as input the latent variable $z$ and reconstruct the image $X$. Specifically, the decoder will output the pixel intensities, which should take values between 0 and 1. For this reason, we suggest to use a sigmoid activation function in the final layer. Implement this decoder and verify that for a given latent variable $z$, the model outputs a vector of size 784, which can be shown as $28 \\times 28$ image after reshaping.\n",
    "\n",
    "\n",
    "### AE Architecture:\n",
    "- The AE should be implemented as a class `Autoencoder` that inherits from `nn.Module`.\n",
    "- The `forward()` method should:\n",
    "   - Encode the input to the latent space using the `Encoder`.\n",
    "   - Decode the latent variable $z$ to reconstruct the input using the `Decoder`.\n",
    "   \n",
    "The output of the AE will include the reconstructed input $\\hat{X}$ and the latent variable $z$.\n",
    "\n",
    "### Loss Function:\n",
    "The total loss minimized during training can be the average of the reconstruction error RE over the dataset (or a minibatch of the dataset). As a reconstruction error, for a given image $X^{i}$, we use the mean square error:\n",
    "\n",
    "\\begin{equation}\n",
    "RE = \\frac{1}{784}\\left\\| X^{i} - \\hat{X}^{i} \\right\\|^2\n",
    "\\end{equation}\n",
    "\n",
    "where $X$ is the original input, and $\\hat{X}$ is the output of the autoencoder. \n",
    "\n",
    "### Training:\n",
    "Training a good autoencoder can require many iterations of gradient descent. Since the training dataset is pretty large (60'000 samples), completing an iteration can be time consuming. Thus, we suggest to work with mini batches of data at each iteration of gradient descent. Suggested size of the mini batch for each iteration: around 1000. \n",
    "\n",
    "### Debugging\n",
    "After constructing Encoder, Decoder, and Autoencoder, check if the mdoel works as expected. Provide an input image and see if the output of your model has at least the shape you expect. "
   ]
  },
  {
   "cell_type": "code",
   "execution_count": null,
   "id": "20ac0b4f",
   "metadata": {},
   "outputs": [],
   "source": [
    "# Create the Encoder block\n",
    "# You can complete the following cell or rewrite it from scratch\n",
    "\n",
    "# Create Encoder\n",
    "class Encoder(nn.Module):\n",
    "    def __init__(self, ........ ):\n",
    "        super(Encoder, self).__init__()\n",
    "        \n",
    "\n",
    "        ...\n",
    "\n",
    "    def forward(self, x):\n",
    "        ...\n",
    "        z = ...\n",
    "        return z\n",
    "\n"
   ]
  },
  {
   "cell_type": "code",
   "execution_count": null,
   "id": "f80908b1",
   "metadata": {},
   "outputs": [],
   "source": [
    "# Create Decoder block\n",
    "# You can complete the following cell or rewrite it from scratch\n",
    "\n",
    "class Decoder(nn.Module):\n",
    "    def __init__(self, ......  ):\n",
    "        super(Decoder, self).__init__()\n",
    "\n",
    "        ...\n",
    "        \n",
    "    def forward(self, z):\n",
    "        \n",
    "        x = ...\n",
    "        return x\n"
   ]
  },
  {
   "cell_type": "code",
   "execution_count": null,
   "id": "c0d9e6f6",
   "metadata": {},
   "outputs": [],
   "source": [
    "# Create Autoencoder (You can adapt this cell  based on the Encoder and Decoder models you have defined in the previous cells)\n",
    "\n",
    "class AutoEncoder(nn.Module):\n",
    "    def __init__(self, ......  ):\n",
    "        super(AutoEncoder, self).__init__()\n",
    "        # Initialize the encoder and decoder\n",
    "        self.encoder = Encoder(...)\n",
    "        self.decoder = Decoder(...)\n",
    "\n",
    "    def forward(self, x):\n",
    "        # Encode input to latent space\n",
    "        z = self.encoder(x)\n",
    "        # Decode latent space back to image\n",
    "        reconstructed = self.decoder(z)\n",
    "        return reconstructed, z  # Return reconstructed image and latent vector\n"
   ]
  },
  {
   "cell_type": "code",
   "execution_count": null,
   "id": "eb9f4cd0",
   "metadata": {},
   "outputs": [],
   "source": [
    "### (Optional) Suggestions for checking if Encoder, Decoder, Autoencoder is working as expected\n",
    "\n",
    "\n",
    "# Test the Autoencoder architecture\n",
    "\n",
    "# Extract a set of 10 images\n",
    "X = X_train[0:10, :, :]  # Shape: (10, 28, 28)\n",
    "batch_size, H, W = X.shape\n",
    "\n",
    "# Define model parameters\n",
    "\n",
    "\n",
    "# Instantiate the encoder model\n",
    "model_encoder = Encoder(...)\n",
    "# Forward pass through the encoder\n",
    "enc_im = model_encoder(X)\n",
    "print(f\"Shape of Encoder output: {enc_im.shape}\")  # Expected size: (batch_size, nz)\n",
    "\n",
    "# Instantiate the decoder model\n",
    "model_decoder = Decoder(...)\n",
    "# Forward pass through the decoder\n",
    "out = model_decoder(enc_im)\n",
    "print(f\"Shape of Decoder output: {out.shape}\")  # Expected shape: (batch_size, 28, 28)\n",
    "\n",
    "# Instantiate the full AutoEncoder\n",
    "model = AutoEncoder(...)\n",
    "# Forward pass through the autoencoder\n",
    "X_hat, z = model(X)\n",
    "print(f\"Shape of Autoencoder output: {X_hat.shape}\")  # Expected shape: (batch_size, 28, 28)\n",
    "print(f\"Shape of latent vector: {z.shape}\")  # Expected shape: (batch_size, nz)\n",
    "\n",
    "# Given a value of z, we can also apply it to the decoder and generate an output\n",
    "X_new = model.decoder(z)\n",
    "plt.figure()\n",
    "plt.imshow(X_new[0,:,:].detach())\n",
    "plt.title('Image generated by a non-trained AE')"
   ]
  },
  {
   "cell_type": "code",
   "execution_count": null,
   "id": "839b8954",
   "metadata": {},
   "outputs": [],
   "source": [
    "# Train the autoencoder. You can use the following reconstruction loss\n",
    "\n",
    "def reconstruction_error(X_hat, X):\n",
    "    # Mean squared error between the reconstructed images and the original images\n",
    "    RE = torch.nn.functional.mse_loss(X_hat, X, reduction='mean')  # Use PyTorch's built-in MSE function\n",
    "    return RE\n",
    "\n",
    "# Example usage:\n",
    "RE = reconstruction_error(X_hat, X)\n",
    "print(f\"Reconstruction error: {RE.item()}\")  # Print the scalar value of the error\n",
    "\n"
   ]
  },
  {
   "cell_type": "markdown",
   "id": "34147b84-f475-452e-b808-5c9ac6d2a982",
   "metadata": {},
   "source": [
    "## Visualizing AutoEncoder Reconstruction\n",
    "\n",
    "We now visualize the performance of your trained  Autoencoder (AE) by comparing the original test images to the reconstructed images generated by the VAE.\n",
    "\n",
    "### Steps:\n",
    "1. **Pass the test images** through the trained AE to obtain the reconstructed images. \n",
    "   \n",
    "2. **Plot the original and reconstructed images** in a 2x10 grid:\n",
    "   - The first row will display the original images from the test set.\n",
    "   - The second row will display the corresponding reconstructed images generated by the AE."
   ]
  },
  {
   "cell_type": "code",
   "execution_count": 10,
   "id": "023e653a-ccec-48e3-b730-0c206e4114ad",
   "metadata": {},
   "outputs": [
    {
     "data": {
      "text/plain": [
       "Ellipsis"
      ]
     },
     "execution_count": 10,
     "metadata": {},
     "output_type": "execute_result"
    }
   ],
   "source": [
    "# Write your solution here\n",
    "\n",
    "..."
   ]
  },
  {
   "cell_type": "markdown",
   "id": "1a0d06bc-975b-46ab-892b-77228b082ac9",
   "metadata": {},
   "source": [
    "# Check size (in MB) of an original training image and the compressed image where only the latent variable z is saved"
   ]
  },
  {
   "cell_type": "code",
   "execution_count": 3,
   "id": "81964ad6-291e-49e5-be7b-c541f4ff4683",
   "metadata": {},
   "outputs": [
    {
     "ename": "NameError",
     "evalue": "name 'model' is not defined",
     "output_type": "error",
     "traceback": [
      "\u001b[1;31m---------------------------------------------------------------------------\u001b[0m",
      "\u001b[1;31mNameError\u001b[0m                                 Traceback (most recent call last)",
      "Cell \u001b[1;32mIn[3], line 3\u001b[0m\n\u001b[0;32m      1\u001b[0m \u001b[38;5;66;03m# check memory storage (you can use the following examples to see how to estimate the size of a zensor)\u001b[39;00m\n\u001b[1;32m----> 3\u001b[0m x_hat, z_hat \u001b[38;5;241m=\u001b[39m \u001b[43mmodel\u001b[49m(X_train)\n\u001b[0;32m      5\u001b[0m size_z_hat \u001b[38;5;241m=\u001b[39m  z_hat\u001b[38;5;241m.\u001b[39mnelement()\u001b[38;5;241m*\u001b[39mz_hat\u001b[38;5;241m.\u001b[39melement_size() \u001b[38;5;66;03m# number of elements of z_hat * size in bytes for each element = size in Byte of compressed tensor\u001b[39;00m\n\u001b[0;32m      6\u001b[0m size_train_images \u001b[38;5;241m=\u001b[39m X_train\u001b[38;5;241m.\u001b[39mnelement()\u001b[38;5;241m*\u001b[39mX_train\u001b[38;5;241m.\u001b[39melement_size() \u001b[38;5;66;03m# size original images\u001b[39;00m\n",
      "\u001b[1;31mNameError\u001b[0m: name 'model' is not defined"
     ]
    }
   ],
   "source": [
    "# check memory storage (you can use the following examples to see how to estimate the size of a zensor)\n",
    "\n",
    "x_hat, z_hat = model(X_train)\n",
    "\n",
    "size_z_hat =  z_hat.nelement()*z_hat.element_size() # number of elements of z_hat * size in bytes for each element = size in Byte of compressed tensor\n",
    "size_train_images = X_train.nelement()*X_train.element_size() # size original images\n",
    "\n",
    "print(f\"size in MB of original dataset: {size_train_images/(1024*1024)}\") # Note: this is the size after conversion to Tensor of data type: float32 = 4 Bytes/element \n",
    "print(f\"size in MB of compressed dataset: {size_z_hat/(1024*1024)}\")"
   ]
  },
  {
   "cell_type": "markdown",
   "id": "bbef0ccd-3c39-4340-a3af-58438400560b",
   "metadata": {},
   "source": [
    "# Exercise 2: Anomaly Detection\n",
    "\n",
    "In this exercise, you should use the trained autoencoder for anomaly detection.\n",
    "\n",
    "Anomaly detection should be performed on an extended dataset which consists of:\n",
    "\n",
    "- all images from the MNIST dataset. These images are considered as \"normal data\" as the autoencoder has already been trained on the MNIST dataset (namely, on digits). \n",
    "\n",
    "- 10 additional images from the Fashion MNIST dataset, which should be considered as anomalies in our extended dataset\n",
    "\n",
    "**Steps of the exercise:**\n",
    "\n",
    "1. Create the extended dataset by concatenating the test set of MNIST with 10 images from the Fashion MNIST dataset.\n",
    "   \n",
    "2. Compute the reconstruction error for all the samples in the extended dataset created in step 1 and order the samples from the largest reconstruction error to the smallest.\n",
    "   \n",
    "3. Display the images associated with the 10 largest reconstruction errors and comment the results."
   ]
  },
  {
   "cell_type": "markdown",
   "id": "f18b24b0",
   "metadata": {},
   "source": [
    "### Run the following cells to download the Fashion MNIST dataset, visualize the images and created the new dataset with test images from MNIST and 10 images from Fashion MNIST."
   ]
  },
  {
   "cell_type": "code",
   "execution_count": 26,
   "id": "70fe668e-8f3b-4246-aadd-11e19ef8a0aa",
   "metadata": {},
   "outputs": [
    {
     "data": {
      "text/plain": [
       "torch.Size([60000, 28, 28])"
      ]
     },
     "execution_count": 26,
     "metadata": {},
     "output_type": "execute_result"
    }
   ],
   "source": [
    "# Load Fashion MNIST dataset\n",
    "\n",
    "FashionMNIST_dataset_train = torchvision.datasets.FashionMNIST(root='./data', train=True, download=True, transform=transform)\n",
    "\n",
    "\n",
    "FashionMNIST_images = torch.stack([FashionMNIST_dataset_train[i][0] for i in range(len(FashionMNIST_dataset_train))])  # Training images\n",
    "FashionMNIST_images = FashionMNIST_images.squeeze()\n",
    "FashionMNIST_images.shape"
   ]
  },
  {
   "cell_type": "code",
   "execution_count": 27,
   "id": "67f1fbbd-d51a-44de-82ab-649d4d89be3d",
   "metadata": {},
   "outputs": [
    {
     "data": {
      "image/png": "[encoded data removed]",
      "text/plain": [
       "<Figure size 1000x1000 with 9 Axes>"
      ]
     },
     "metadata": {},
     "output_type": "display_data"
    }
   ],
   "source": [
    "# visualize data\n",
    "\n",
    "labels_map = {\n",
    "    0: \"T-Shirt\",\n",
    "    1: \"Trouser\",\n",
    "    2: \"Pullover\",\n",
    "    3: \"Dress\",\n",
    "    4: \"Coat\",\n",
    "    5: \"Sandal\",\n",
    "    6: \"Shirt\",\n",
    "    7: \"Sneaker\",\n",
    "    8: \"Bag\",\n",
    "    9: \"Ankle Boot\",\n",
    "}\n",
    "\n",
    "\n",
    "cols, rows = 3, 3\n",
    "\n",
    "fig = plt.figure(figsize = (10,10))\n",
    "for ind in range(cols*rows):\n",
    "    x, y = FashionMNIST_dataset_train[ind]\n",
    "    fig.add_subplot(rows, cols, ind+1)\n",
    "    plt.title(f\"{labels_map[y]}\")\n",
    "    plt.imshow(x.squeeze(), cmap = 'gray')"
   ]
  },
  {
   "cell_type": "code",
   "execution_count": 29,
   "id": "d9dab681-d7c0-4cb0-b2aa-e9ac84d7fcab",
   "metadata": {},
   "outputs": [
    {
     "name": "stdout",
     "output_type": "stream",
     "text": [
      "Shape extended dataset: torch.Size([10010, 28, 28])\n"
     ]
    }
   ],
   "source": [
    "#concatanete MNIST testa dataset with first 10 images of the FashionMNIST dataset\n",
    "\n",
    "\n",
    "extended_dataset = torch.cat((X_test, FashionMNIST_images[0:10,:,:]), dim = 0)\n",
    "print(f\"Shape extended dataset: {extended_dataset.shape}\")"
   ]
  },
  {
   "cell_type": "markdown",
   "id": "bba85522-bcaf-484f-8e41-ba94d29613f6",
   "metadata": {},
   "source": [
    "# Exercise 3: Classification with compressed images\n",
    "\n",
    "Train a knn classifier to predict the digit visualized in the image.\n",
    "\n",
    "First use original images, then the compressed images.\n",
    "\n",
    "In both case, compute accuracy and the time taken by a kn--classificator to predict the test images. Comment the results.\n",
    "\n",
    "In using original images, as features you should use the pixel intensity of the images (after transforming them into a vector)\n",
    "\n",
    "For compressed, use the latent variables z.\n",
    "\n",
    "Note: If you use sklear, do not forget to tranfor your Tensors into numpy array.\n",
    "\n",
    "Note: In the training, use only 5000 images, otherwise the time for prediction of the k-nn algorithm will be very high\n",
    "Note: in k-nn, you actually do not really train a model. Most of the time is taken to compute prediction. "
   ]
  },
  {
   "cell_type": "markdown",
   "id": "c87aa486",
   "metadata": {},
   "source": [
    " The following cell implements the k-nn classifier on the orginal images. Feel free to use the following code or rewrite it from scratch."
   ]
  },
  {
   "cell_type": "code",
   "execution_count": 4,
   "id": "6ba82f73-c65a-4b69-aa54-aafe882177c3",
   "metadata": {},
   "outputs": [
    {
     "name": "stdout",
     "output_type": "stream",
     "text": [
      "Time to fit the KNN model: 0.02 seconds\n",
      "Time to predict the test set: 43.60 seconds\n",
      "Accuracy on the test set: 93.25%\n"
     ]
    }
   ],
   "source": [
    "import numpy as np\n",
    "import time\n",
    "from sklearn.neighbors import KNeighborsClassifier\n",
    "from sklearn.metrics import accuracy_score\n",
    "\n",
    "# Use a subset of the training and test data for having results faster\n",
    "train_images_subset = X_train[0:5000]  # Use 5000 samples from training set\n",
    "train_target_subset = y_train[0:5000]  # Corresponding labels\n",
    "\n",
    "# Flatten the images for KNN\n",
    "train_images_flat = train_images_subset.view(train_images_subset.size(0), -1)  # Reshape to (batch_size, 28*28)\n",
    "test_images_flat = X_test.view(X_test.size(0), -1)  # Reshape to (batch_size, 28*28)\n",
    "\n",
    "# Convert tensors to numpy arrays for sklearn\n",
    "train_images_np = train_images_flat.numpy()\n",
    "test_images_np = test_images_flat.numpy()\n",
    "train_target_np = train_target_subset.numpy()\n",
    "test_target_np = y_test.numpy()\n",
    "\n",
    "# Initialize the KNN classifier\n",
    "knn = KNeighborsClassifier(n_neighbors=5)  # You can adjust n_neighbors for different K values\n",
    "\n",
    "# Measure the time taken to fit the classifier\n",
    "start_time = time.time()\n",
    "\n",
    "# Fit the classifier on the training data subset\n",
    "knn.fit(train_images_np, train_target_np)\n",
    "\n",
    "# Measure the time taken to fit the model\n",
    "fit_time = time.time() - start_time\n",
    "print(f\"Time to fit the KNN model: {fit_time:.2f} seconds\")\n",
    "\n",
    "# Measure the time taken to predict the test data\n",
    "start_time = time.time()\n",
    "\n",
    "# Predict the test labels\n",
    "test_pred = knn.predict(test_images_np)\n",
    "\n",
    "# Measure the time taken to predict the test set\n",
    "predict_time = time.time() - start_time\n",
    "print(f\"Time to predict the test set: {predict_time:.2f} seconds\")\n",
    "\n",
    "# Compute the accuracy\n",
    "accuracy = accuracy_score(test_target_np, test_pred)\n",
    "print(f\"Accuracy on the test set: {accuracy * 100:.2f}%\")\n"
   ]
  },
  {
   "cell_type": "code",
   "execution_count": null,
   "id": "8e70d1df",
   "metadata": {},
   "outputs": [],
   "source": []
  }
 ],
 "metadata": {
  "kernelspec": {
   "display_name": "Python 3 (ipykernel)",
   "language": "python",
   "name": "python3"
  },
  "language_info": {
   "codemirror_mode": {
    "name": "ipython",
    "version": 3
   },
   "file_extension": ".py",
   "mimetype": "text/x-python",
   "name": "python",
   "nbconvert_exporter": "python",
   "pygments_lexer": "ipython3",
   "version": "3.9.20"
  }
 },
 "nbformat": 4,
 "nbformat_minor": 5
}
