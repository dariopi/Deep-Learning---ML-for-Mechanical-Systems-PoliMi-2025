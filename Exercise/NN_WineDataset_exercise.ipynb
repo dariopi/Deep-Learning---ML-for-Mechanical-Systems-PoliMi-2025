{
 "cells": [
  {
   "cell_type": "markdown",
   "id": "edeaeaca-83f1-4f78-ba13-c82abc3973aa",
   "metadata": {},
   "source": [
    "# Wine Quality Dataset: Predicting Wine Quality with a Feedforward Neural Network  \n",
    "**Date:** February 4, 2025  \n",
    "**Author:** Dario Piga  \n",
    "\n",
    "In this notebook, we will implement a **feedforward neural network (FNN)** using PyTorch to predict the **quality of red wine** based on various **chemical properties**. The **Wine Quality Dataset** is a well-known real-world dataset for regression tasks.\n",
    "\n",
    "---\n",
    "\n",
    "## **The Wine Quality Dataset**  \n",
    "\n",
    "The **Wine Quality Dataset** comes from the UCI Machine Learning Repository and contains **1,599 samples** of red wines, each described by **11 numerical features**. The goal is to predict the **wine quality score** (on a scale from 0 to 10) based on its **physicochemical properties**.\n",
    "\n",
    "### **🔹 Features in the Dataset**\n",
    "| **Feature Name**         | **Description**                                  |\n",
    "|--------------------------|--------------------------------------------------|\n",
    "| `fixed acidity`         | Tartaric acid content (g/dm³)                     |\n",
    "| `volatile acidity`      | Acetic acid content (g/dm³)                       |\n",
    "| `citric acid`           | Citric acid content (g/dm³)                       |\n",
    "| `residual sugar`        | Sugar remaining after fermentation (g/dm³)        |\n",
    "| `chlorides`             | Salt content (g/dm³)                              |\n",
    "| `free sulfur dioxide`   | Free SO₂ in mg/L                                  |\n",
    "| `total sulfur dioxide`  | Total SO₂ in mg/L                                 |\n",
    "| `density`               | Density of the wine (g/cm³)                       |\n",
    "| `pH`                    | Acidity level (pH scale)                          |\n",
    "| `sulphates`             | Sulfate content (g/dm³)                           |\n",
    "| `alcohol`               | Alcohol percentage (%)                            |\n",
    "| **Target: `quality`**   | Wine quality score (integer between 0 and 10)    |\n",
    "\n",
    "---\n",
    "\n",
    "## **Implementation Steps**\n",
    "1. **Load the Wine Quality dataset** from UCI \n",
    "2. **Preprocess the data** (normalize and convert to tensors).\n",
    "3. **Define a feedforward neural network** for regression.\n",
    "4. **Define training loss (MSE Loss)**\n",
    "5. **Train the model** \n",
    "6. **Evaluate the model** performance.\n",
    "\n"
   ]
  },
  {
   "cell_type": "code",
   "execution_count": 8,
   "id": "4f6da6d9-f406-4bb9-90f3-04375876b71e",
   "metadata": {},
   "outputs": [],
   "source": [
    "## **1. Import Required Libraries**\n",
    "import torch\n",
    "import torch.nn as nn\n",
    "import torch.optim as optim\n",
    "import pandas as pd\n",
    "import numpy as np\n",
    "import matplotlib.pyplot as plt\n",
    "from sklearn.model_selection import train_test_split\n",
    "from sklearn.preprocessing import StandardScaler\n",
    "\n",
    "\n",
    "# Set random seed for reproducibility\n",
    "torch.manual_seed(42)\n",
    "np.random.seed(42)\n"
   ]
  },
  {
   "cell_type": "code",
   "execution_count": 9,
   "id": "d56857db-75a3-4377-bf5e-476b8bb4ad29",
   "metadata": {},
   "outputs": [
    {
     "name": "stdout",
     "output_type": "stream",
     "text": [
      "   fixed acidity  volatile acidity  citric acid  residual sugar  chlorides  \\\n",
      "0            7.4              0.70         0.00             1.9      0.076   \n",
      "1            7.8              0.88         0.00             2.6      0.098   \n",
      "2            7.8              0.76         0.04             2.3      0.092   \n",
      "3           11.2              0.28         0.56             1.9      0.075   \n",
      "4            7.4              0.70         0.00             1.9      0.076   \n",
      "\n",
      "   free sulfur dioxide  total sulfur dioxide  density    pH  sulphates  \\\n",
      "0                 11.0                  34.0   0.9978  3.51       0.56   \n",
      "1                 25.0                  67.0   0.9968  3.20       0.68   \n",
      "2                 15.0                  54.0   0.9970  3.26       0.65   \n",
      "3                 17.0                  60.0   0.9980  3.16       0.58   \n",
      "4                 11.0                  34.0   0.9978  3.51       0.56   \n",
      "\n",
      "   alcohol  quality  \n",
      "0      9.4        5  \n",
      "1      9.8        5  \n",
      "2      9.8        5  \n",
      "3      9.8        6  \n",
      "4      9.4        5  \n",
      "<class 'pandas.core.frame.DataFrame'>\n",
      "RangeIndex: 1599 entries, 0 to 1598\n",
      "Data columns (total 12 columns):\n",
      " #   Column                Non-Null Count  Dtype  \n",
      "---  ------                --------------  -----  \n",
      " 0   fixed acidity         1599 non-null   float64\n",
      " 1   volatile acidity      1599 non-null   float64\n",
      " 2   citric acid           1599 non-null   float64\n",
      " 3   residual sugar        1599 non-null   float64\n",
      " 4   chlorides             1599 non-null   float64\n",
      " 5   free sulfur dioxide   1599 non-null   float64\n",
      " 6   total sulfur dioxide  1599 non-null   float64\n",
      " 7   density               1599 non-null   float64\n",
      " 8   pH                    1599 non-null   float64\n",
      " 9   sulphates             1599 non-null   float64\n",
      " 10  alcohol               1599 non-null   float64\n",
      " 11  quality               1599 non-null   int64  \n",
      "dtypes: float64(11), int64(1)\n",
      "memory usage: 150.0 KB\n",
      "None\n"
     ]
    }
   ],
   "source": [
    "# Load dataset\n",
    "path = 'data\\winequality-red.csv' # path where your dataset is saved\n",
    "\n",
    "df = pd.read_csv(path, sep=\";\")\n",
    "\n",
    "# Display dataset information\n",
    "print(df.head())\n",
    "print(df.info())"
   ]
  },
  {
   "cell_type": "code",
   "execution_count": 10,
   "id": "bc4f8b3e-0ca1-46d8-89c8-6950bc60479f",
   "metadata": {},
   "outputs": [],
   "source": [
    "# Define features and target\n",
    "features = df.columns[:-1]  # All columns except the last one (quality)\n",
    "target = \"quality\"  # Target variable (wine score from 0 to 10)\n",
    "\n",
    "X = df[features].values\n",
    "y = df[target].values.reshape(-1, 1)  # Ensure y is a column vector"
   ]
  },
  {
   "cell_type": "markdown",
   "id": "a80763c9-14eb-4075-b722-35c319344bfa",
   "metadata": {},
   "source": [
    "## Step 1. Make sure you have understood the structure of your dataset.\n",
    "### Note that the input features are stored in the variable X and the target in y"
   ]
  },
  {
   "cell_type": "markdown",
   "id": "dfa317ea-eaf8-4659-a5a7-83e67837e50c",
   "metadata": {},
   "source": [
    "## Step 2. Split your dataset in training and test data,  normalize your variables, and convert your variables to torch tensors\n",
    "\n",
    "### Note: All tensors must have elements in float32 format, as PyTorch models require this data type to compute gradients."
   ]
  },
  {
   "cell_type": "code",
   "execution_count": 11,
   "id": "110d7fab-0e6a-40ee-8631-3762b332e19d",
   "metadata": {},
   "outputs": [],
   "source": [
    "# Write your code here\n",
    "..."
   ]
  },
  {
   "cell_type": "markdown",
   "id": "443ae713-c63b-4c7b-a36c-ede5b9d12f35",
   "metadata": {},
   "source": [
    "## Step 3. Define your FeedForward Neural Network"
   ]
  },
  {
   "cell_type": "code",
   "execution_count": 12,
   "id": "3a690ee8-8bfb-4aa5-afec-442205516d84",
   "metadata": {},
   "outputs": [
    {
     "name": "stdout",
     "output_type": "stream",
     "text": [
      "Model structure: FeedforwardNN()\n"
     ]
    }
   ],
   "source": [
    "# Write your solution here (you can complete the code below or rewrite it from scratch)\n",
    "\n",
    "class FeedforwardNN(nn.Module):\n",
    "    def __init__(self, input_dim, hidden1, hidden2):\n",
    "        super(FeedforwardNN, self).__init__()\n",
    "        ...\n",
    "\n",
    "    def forward(self, x):\n",
    "        ...\n",
    "        y = ...\n",
    "        return y\n",
    "\n",
    "\n",
    "model = FeedforwardNN(input_dim = X_train.shape[1], hidden1=12, hidden2=8)\n",
    "\n",
    "print(f\"Model structure: {model}\")\n",
    "\n"
   ]
  },
  {
   "cell_type": "markdown",
   "id": "d53a2c9c-b9a5-4e1b-96a1-676473e7d75e",
   "metadata": {},
   "source": [
    "## Step 4. Define the loss function and optimizer"
   ]
  },
  {
   "cell_type": "code",
   "execution_count": 14,
   "id": "d59d422b-46d2-45d1-bece-d56392520d29",
   "metadata": {},
   "outputs": [],
   "source": [
    "# write your solution here\n",
    "criterion = ...\n",
    "\n",
    "optimizer = ..."
   ]
  },
  {
   "cell_type": "markdown",
   "id": "fb202ec4-e3b9-440c-9465-310984352832",
   "metadata": {},
   "source": [
    "## Step 5. Train your model (during the training, print the value of the loss to see if it is decresing)"
   ]
  },
  {
   "cell_type": "code",
   "execution_count": 11,
   "id": "00d04ac5-1695-4b82-9c70-94e3866f99fb",
   "metadata": {},
   "outputs": [],
   "source": [
    "# Write your solution here\n",
    "..."
   ]
  },
  {
   "cell_type": "markdown",
   "id": "50ce4abd-827e-4b35-9c8f-65cd1a16c242",
   "metadata": {},
   "source": [
    "## Step 6. Assess model performance \n",
    "### Note: check if your model overfitted the training dataset (very high performance in training and low performance in test data)\n"
   ]
  },
  {
   "cell_type": "code",
   "execution_count": null,
   "id": "ab8e51a1-f689-4ad6-b353-4892e192864f",
   "metadata": {},
   "outputs": [],
   "source": [
    "# Write your code here\n",
    "..."
   ]
  }
 ],
 "metadata": {
  "kernelspec": {
   "display_name": "Python 3 (ipykernel)",
   "language": "python",
   "name": "python3"
  },
  "language_info": {
   "codemirror_mode": {
    "name": "ipython",
    "version": 3
   },
   "file_extension": ".py",
   "mimetype": "text/x-python",
   "name": "python",
   "nbconvert_exporter": "python",
   "pygments_lexer": "ipython3",
   "version": "3.8.20"
  }
 },
 "nbformat": 4,
 "nbformat_minor": 5
}
